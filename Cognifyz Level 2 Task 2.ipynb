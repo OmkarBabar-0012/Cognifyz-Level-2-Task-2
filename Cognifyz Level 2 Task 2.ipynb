{
 "cells": [
  {
   "cell_type": "markdown",
   "id": "9f5dc82b",
   "metadata": {},
   "source": [
    "# Task: Price Range Analysis"
   ]
  },
  {
   "cell_type": "code",
   "execution_count": 3,
   "id": "3d727cdb",
   "metadata": {},
   "outputs": [
    {
     "name": "stdout",
     "output_type": "stream",
     "text": [
      "Step 1: The most common price range among all the restaurants is: 1\n",
      "\n",
      "Step 2: The average rating for each price range is as follows:\n",
      "  - Price Range 1: 1.9999\n",
      "  - Price Range 2: 2.9411\n",
      "  - Price Range 3: 3.6834\n",
      "  - Price Range 4: 3.8179\n",
      "\n",
      "Step 3: The price range with the highest average rating is: 4\n",
      "  - The color representing this highest average rating is: Yellow\n",
      "\n",
      "Summary of Results:\n",
      "  - Most Common Price Range: 1\n",
      "  - Average Ratings by Price Range:\n",
      "    * Price Range 1: 1.9999\n",
      "    * Price Range 2: 2.9411\n",
      "    * Price Range 3: 3.6834\n",
      "    * Price Range 4: 3.8179\n",
      "  - Color Representing Highest Average Rating: Yellow\n"
     ]
    },
    {
     "data": {
      "image/png": "[encoded data removed]",
      "text/plain": [
       "<Figure size 720x432 with 1 Axes>"
      ]
     },
     "metadata": {
      "needs_background": "light"
     },
     "output_type": "display_data"
    }
   ],
   "source": [
    "import pandas as pd\n",
    "import matplotlib.pyplot as plt\n",
    "\n",
    "# Load the dataset\n",
    "file_path = r'C:\\Users\\91702\\Dataset.csv'\n",
    "df = pd.read_csv(file_path)\n",
    "\n",
    "# Step 1: Determine the most common price range\n",
    "most_common_price_range = df['Price range'].mode()[0]\n",
    "print(f\"Step 1: The most common price range among all the restaurants is: {most_common_price_range}\")\n",
    "\n",
    "# Step 2: Calculate the average rating for each price range\n",
    "average_rating_by_price_range = df.groupby('Price range')['Aggregate rating'].mean()\n",
    "print(\"\\nStep 2: The average rating for each price range is as follows:\")\n",
    "for price_range, avg_rating in average_rating_by_price_range.items():\n",
    "    print(f\"  - Price Range {price_range}: {avg_rating:.4f}\")\n",
    "\n",
    "# Step 3: Identify the color that represents the highest average rating among different price ranges\n",
    "highest_rating_price_range = average_rating_by_price_range.idxmax()\n",
    "color_for_highest_rating = df[df['Price range'] == highest_rating_price_range]['Rating color'].mode()[0]\n",
    "print(f\"\\nStep 3: The price range with the highest average rating is: {highest_rating_price_range}\")\n",
    "print(f\"  - The color representing this highest average rating is: {color_for_highest_rating}\")\n",
    "\n",
    "# Final Summary\n",
    "print(\"\\nSummary of Results:\")\n",
    "print(f\"  - Most Common Price Range: {most_common_price_range}\")\n",
    "print(\"  - Average Ratings by Price Range:\")\n",
    "for price_range, avg_rating in average_rating_by_price_range.items():\n",
    "    print(f\"    * Price Range {price_range}: {avg_rating:.4f}\")\n",
    "print(f\"  - Color Representing Highest Average Rating: {color_for_highest_rating}\")\n",
    "\n",
    "# Visual Representation\n",
    "# Bar plot for average ratings by price range\n",
    "plt.figure(figsize=(10, 6))\n",
    "average_rating_by_price_range.plot(kind='bar', color=['red', 'blue', 'green', 'yellow'])\n",
    "\n",
    "plt.title('Average Rating by Price Range')\n",
    "plt.xlabel('Price Range')\n",
    "plt.ylabel('Average Rating')\n",
    "plt.xticks(rotation=0)\n",
    "plt.ylim(0, 5)\n",
    "\n",
    "# Highlight the highest average rating\n",
    "plt.axhline(y=average_rating_by_price_range.max(), color='yellow', linestyle='--', label=f'Highest Average Rating ({color_for_highest_rating})')\n",
    "plt.legend()\n",
    "\n",
    "plt.show()\n"
   ]
  }
 ],
 "metadata": {
  "kernelspec": {
   "display_name": "Python 3 (ipykernel)",
   "language": "python",
   "name": "python3"
  },
  "language_info": {
   "codemirror_mode": {
    "name": "ipython",
    "version": 3
   },
   "file_extension": ".py",
   "mimetype": "text/x-python",
   "name": "python",
   "nbconvert_exporter": "python",
   "pygments_lexer": "ipython3",
   "version": "3.9.12"
  }
 },
 "nbformat": 4,
 "nbformat_minor": 5
}
